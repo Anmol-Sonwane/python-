{
 "cells": [
  {
   "cell_type": "code",
   "execution_count": 1,
   "id": "66f6828e",
   "metadata": {},
   "outputs": [
    {
     "data": {
      "text/plain": [
       "17.0"
      ]
     },
     "execution_count": 1,
     "metadata": {},
     "output_type": "execute_result"
    }
   ],
   "source": [
    "float (8) + float (9)"
   ]
  },
  {
   "cell_type": "code",
   "execution_count": 2,
   "id": "0b487fb7",
   "metadata": {},
   "outputs": [
    {
     "data": {
      "text/plain": [
       "8.4"
      ]
     },
     "execution_count": 2,
     "metadata": {},
     "output_type": "execute_result"
    }
   ],
   "source": [
    "int(5.3)+float(3.4) "
   ]
  },
  {
   "cell_type": "code",
   "execution_count": 3,
   "id": "4bbe849b",
   "metadata": {},
   "outputs": [
    {
     "data": {
      "text/plain": [
       "8"
      ]
     },
     "execution_count": 3,
     "metadata": {},
     "output_type": "execute_result"
    }
   ],
   "source": [
    "x=5\n",
    "x+=3\n",
    "x"
   ]
  },
  {
   "cell_type": "code",
   "execution_count": 4,
   "id": "14c85488",
   "metadata": {},
   "outputs": [
    {
     "data": {
      "text/plain": [
       "16"
      ]
     },
     "execution_count": 4,
     "metadata": {},
     "output_type": "execute_result"
    }
   ],
   "source": [
    "x*=2\n",
    "x"
   ]
  },
  {
   "cell_type": "code",
   "execution_count": 5,
   "id": "7cd2b5d6",
   "metadata": {},
   "outputs": [
    {
     "data": {
      "text/plain": [
       "'20'"
      ]
     },
     "execution_count": 5,
     "metadata": {},
     "output_type": "execute_result"
    }
   ],
   "source": [
    "x=str(20)\n",
    "x"
   ]
  },
  {
   "cell_type": "code",
   "execution_count": 6,
   "id": "76e570e4",
   "metadata": {},
   "outputs": [
    {
     "name": "stdout",
     "output_type": "stream",
     "text": [
      "my DOB 20\n"
     ]
    }
   ],
   "source": [
    "print(\"my DOB\",x)"
   ]
  },
  {
   "cell_type": "code",
   "execution_count": 7,
   "id": "0dec4623",
   "metadata": {},
   "outputs": [
    {
     "data": {
      "text/plain": [
       "144"
      ]
     },
     "execution_count": 7,
     "metadata": {},
     "output_type": "execute_result"
    }
   ],
   "source": [
    "x=9\n",
    "y=8\n",
    "x *=2\n",
    "y *=x\n",
    "y\n"
   ]
  },
  {
   "cell_type": "code",
   "execution_count": 13,
   "id": "0758e21f",
   "metadata": {},
   "outputs": [
    {
     "name": "stdout",
     "output_type": "stream",
     "text": [
      "y is bigger\n",
      "x\n",
      "y ( 60 ) > x ( 50 )\n"
     ]
    }
   ],
   "source": [
    "x=50\n",
    "y=60\n",
    "\n",
    "if x>y:\n",
    "    print('x is bigger')\n",
    "elif x==y:\n",
    "    print('both are equal')\n",
    "else:\n",
    "    print('y is bigger')\n",
    "print('x')\n",
    "print('y','(',y,')', '>', 'x','(',x,')')"
   ]
  },
  {
   "cell_type": "code",
   "execution_count": 15,
   "id": "8679d8c6",
   "metadata": {},
   "outputs": [
    {
     "name": "stdout",
     "output_type": "stream",
     "text": [
      "grade D\n",
      "x= 5\n"
     ]
    }
   ],
   "source": [
    "x=5\n",
    "if x>1 and x<=10:\n",
    "    print('grade D')\n",
    "elif x>10 and x<=20:\n",
    "    print('grade C')\n",
    "else:\n",
    "    print('grade B')\n",
    "print('x=',x)"
   ]
  },
  {
   "cell_type": "code",
   "execution_count": 16,
   "id": "97ce8b9c",
   "metadata": {},
   "outputs": [
    {
     "name": "stdout",
     "output_type": "stream",
     "text": [
      "True\n",
      "True\n",
      "False\n",
      "False\n",
      "True\n",
      "False\n",
      "False\n",
      "True\n",
      "False\n",
      "False\n",
      "True\n"
     ]
    }
   ],
   "source": [
    "x=['5','6','7','8']\n",
    "y=x[:]\n",
    "z=y\n",
    "print(x==y)\n",
    "print(x==z)\n",
    "print(y is x)\n",
    "print(z is x)\n",
    "print(y is z)\n",
    "x[1]='10'\n",
    "y[1]='21'\n",
    "print(x==y)\n",
    "print(x==z)\n",
    "print(y==z)\n",
    "print(y is x)\n",
    "print(z is x)\n",
    "print(y is z)"
   ]
  },
  {
   "cell_type": "code",
   "execution_count": 17,
   "id": "f162940c",
   "metadata": {},
   "outputs": [
    {
     "name": "stdout",
     "output_type": "stream",
     "text": [
      "1\n",
      "true\n"
     ]
    }
   ],
   "source": [
    "x=['2']\n",
    "y=len(x)\n",
    "print(y)\n",
    "if x==[]:\n",
    "    print('false')\n",
    "else:\n",
    "    print('true')"
   ]
  },
  {
   "cell_type": "code",
   "execution_count": null,
   "id": "ea4a69ee",
   "metadata": {},
   "outputs": [],
   "source": []
  }
 ],
 "metadata": {
  "kernelspec": {
   "display_name": "Python 3",
   "language": "python",
   "name": "python3"
  },
  "language_info": {
   "codemirror_mode": {
    "name": "ipython",
    "version": 3
   },
   "file_extension": ".py",
   "mimetype": "text/x-python",
   "name": "python",
   "nbconvert_exporter": "python",
   "pygments_lexer": "ipython3",
   "version": "3.8.8"
  }
 },
 "nbformat": 4,
 "nbformat_minor": 5
}
