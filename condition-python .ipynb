{
 "cells": [
  {
   "cell_type": "code",
   "execution_count": 1,
   "id": "fa5251cb",
   "metadata": {},
   "outputs": [
    {
     "name": "stdout",
     "output_type": "stream",
     "text": [
      "enter a 3 digit number234\n",
      "234 is not an Armstrong number\n"
     ]
    }
   ],
   "source": [
    "#Armstrong no.\n",
    "x=int(input(\"enter a 3 digit number\"))\n",
    "s=0\n",
    "t=x\n",
    "while t>0:\n",
    "    y=t % 10\n",
    "    s+=y ** 3\n",
    "    t//=10  \n",
    "if x == s:  \n",
    "   print(x,\"is an Armstrong number\")  \n",
    "else:  \n",
    "   print(x,\"is not an Armstrong number\")"
   ]
  },
  {
   "cell_type": "code",
   "execution_count": 3,
   "id": "1f7c22fa",
   "metadata": {},
   "outputs": [
    {
     "name": "stdout",
     "output_type": "stream",
     "text": [
      "enter the number4\n",
      "0\n",
      "1\n",
      "1\n",
      "2\n",
      "3\n"
     ]
    }
   ],
   "source": [
    "#Fibonaci series\n",
    "x=int(input(\"enter the number\"))\n",
    "y=0\n",
    "z=1\n",
    "if x==0:\n",
    "    print(0)\n",
    "elif x==1:\n",
    "    print(0)\n",
    "    print(1)\n",
    "else:\n",
    "    print(0)\n",
    "    print(1)\n",
    "for i in range(2,x+1):\n",
    "    s=y+z\n",
    "    y,z=z,s\n",
    "    print(s)"
   ]
  },
  {
   "cell_type": "code",
   "execution_count": 7,
   "id": "492e4b9c",
   "metadata": {},
   "outputs": [
    {
     "name": "stdout",
     "output_type": "stream",
     "text": [
      "enter 1st no.4\n",
      "enter 2nd no.3\n",
      "enter 3rd no.5\n",
      "3rd no. is the largest\n"
     ]
    }
   ],
   "source": [
    "#largest no.\n",
    "x=int(input('enter 1st no.'))\n",
    "y=int(input('enter 2nd no.'))\n",
    "z=int(input('enter 3rd no.'))\n",
    "    \n",
    "print('1st no. is the largest') if x>y and x>z else print('2nd no. is the largest') if y>x and y>z else print(\"3rd no. is the largest\")"
   ]
  },
  {
   "cell_type": "code",
   "execution_count": 8,
   "id": "91a9137b",
   "metadata": {},
   "outputs": [
    {
     "name": "stdout",
     "output_type": "stream",
     "text": [
      "enter any no.9\n",
      "not prime\n"
     ]
    }
   ],
   "source": [
    "#find out prime no.\n",
    "y=int(input('enter any no.'))\n",
    "c=0\n",
    "for i in range(1,y+1):\n",
    "    if y%i==0:\n",
    "        c+=1\n",
    "print('prime') if c==2 else print(\"not prime\")"
   ]
  },
  {
   "cell_type": "code",
   "execution_count": 1,
   "id": "345d6daf",
   "metadata": {},
   "outputs": [
    {
     "name": "stdout",
     "output_type": "stream",
     "text": [
      "enter any no.15\n",
      "2\n",
      "3\n",
      "5\n",
      "7\n",
      "11\n",
      "13\n"
     ]
    }
   ],
   "source": [
    "#prime number in range\n",
    "y=int(input('enter any no.'))\n",
    "\n",
    "for i in range(1,y):\n",
    "    c=0\n",
    "    for j in range(1,i+1):\n",
    "        if (i%j)==0:\n",
    "            c+=1\n",
    "            \n",
    "    if c==2:\n",
    "        print(i)"
   ]
  },
  {
   "cell_type": "code",
   "execution_count": 2,
   "id": "e33f65ee",
   "metadata": {},
   "outputs": [
    {
     "name": "stdout",
     "output_type": "stream",
     "text": [
      "enter any number5\n",
      "+\n"
     ]
    }
   ],
   "source": [
    "#positive negative or 0\n",
    "y=int(input('enter any number'))\n",
    "print('+') if y>0 else print('-') if y<0 else print('0')"
   ]
  },
  {
   "cell_type": "code",
   "execution_count": 3,
   "id": "bb0fc22c",
   "metadata": {},
   "outputs": [
    {
     "name": "stdout",
     "output_type": "stream",
     "text": [
      "enter  no4\n",
      "even\n"
     ]
    }
   ],
   "source": [
    "#odd even\n",
    "y=int(input('enter  no'))\n",
    "print('even') if y%2==0 else print('odd')"
   ]
  },
  {
   "cell_type": "code",
   "execution_count": 4,
   "id": "49574375",
   "metadata": {},
   "outputs": [
    {
     "name": "stdout",
     "output_type": "stream",
     "text": [
      "enter  no5\n",
      "120\n"
     ]
    }
   ],
   "source": [
    "#factorial\n",
    "y=int(input('enter  no'))\n",
    "t=1\n",
    "for i in range(1,y+1):\n",
    "    t=t*i\n",
    "print(t)"
   ]
  },
  {
   "cell_type": "code",
   "execution_count": 5,
   "id": "70b8ba82",
   "metadata": {},
   "outputs": [
    {
     "name": "stdout",
     "output_type": "stream",
     "text": [
      "enter the number5\n",
      "5 * 0 = 0\n",
      "5 * 1 = 5\n",
      "5 * 2 = 10\n",
      "5 * 3 = 15\n",
      "5 * 4 = 20\n",
      "5 * 5 = 25\n",
      "5 * 6 = 30\n",
      "5 * 7 = 35\n",
      "5 * 8 = 40\n",
      "5 * 9 = 45\n",
      "5 * 10 = 50\n"
     ]
    }
   ],
   "source": [
    "#multiplication table\n",
    "x=int(input(\"enter the number\"))\n",
    "for i in range(11):\n",
    "    print(x,'*',i,'=',x*i)"
   ]
  },
  {
   "cell_type": "code",
   "execution_count": 6,
   "id": "017de5d6",
   "metadata": {},
   "outputs": [
    {
     "name": "stdout",
     "output_type": "stream",
     "text": [
      "enter the km200\n",
      "320.0\n"
     ]
    }
   ],
   "source": [
    "#conversion of (km) to (mile)\n",
    "x=int(input(\"enter the km\"))\n",
    "y=x*1.6\n",
    "print(float(y))"
   ]
  },
  {
   "cell_type": "code",
   "execution_count": 7,
   "id": "14626532",
   "metadata": {},
   "outputs": [
    {
     "name": "stdout",
     "output_type": "stream",
     "text": [
      "enter the year2000\n",
      "leap year\n"
     ]
    }
   ],
   "source": [
    "#leap year\n",
    "x=int(input(\"enter the year\"))\n",
    "print('leap year') if x%4==0 else print('not leap')"
   ]
  },
  {
   "cell_type": "code",
   "execution_count": null,
   "id": "6452c51b",
   "metadata": {},
   "outputs": [],
   "source": []
  }
 ],
 "metadata": {
  "kernelspec": {
   "display_name": "Python 3",
   "language": "python",
   "name": "python3"
  },
  "language_info": {
   "codemirror_mode": {
    "name": "ipython",
    "version": 3
   },
   "file_extension": ".py",
   "mimetype": "text/x-python",
   "name": "python",
   "nbconvert_exporter": "python",
   "pygments_lexer": "ipython3",
   "version": "3.8.8"
  }
 },
 "nbformat": 4,
 "nbformat_minor": 5
}
