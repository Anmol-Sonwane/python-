{
 "cells": [
  {
   "cell_type": "code",
   "execution_count": 1,
   "id": "2bebc658",
   "metadata": {},
   "outputs": [
    {
     "name": "stdout",
     "output_type": "stream",
     "text": [
      "enter any number: 4\n",
      "24\n"
     ]
    }
   ],
   "source": [
    "x=int(input(\"enter any number: \"))\n",
    "f=1\n",
    "n=x\n",
    "while n>=1:\n",
    "    f=f*n\n",
    "    n=n-1\n",
    "print(f)"
   ]
  },
  {
   "cell_type": "code",
   "execution_count": 2,
   "id": "84513213",
   "metadata": {},
   "outputs": [
    {
     "name": "stdout",
     "output_type": "stream",
     "text": [
      "number of sales: 3\n",
      "input sale amount: 2\n",
      "input sale amount: 3\n",
      "input sale amount: 2\n",
      "2.3333333333333335\n"
     ]
    }
   ],
   "source": [
    "x=int(input(\"number of sales: \"))\n",
    "t=0\n",
    "for n in range(x):\n",
    "    y=int(input(\"input sale amount: \"))\n",
    "    t=t+y\n",
    "print(t/x)"
   ]
  },
  {
   "cell_type": "code",
   "execution_count": 5,
   "id": "2743b816",
   "metadata": {},
   "outputs": [
    {
     "name": "stdout",
     "output_type": "stream",
     "text": [
      "enter the number6\n",
      "6 * 0 = 0\n",
      "6 * 1 = 6\n",
      "6 * 2 = 12\n",
      "6 * 3 = 18\n",
      "6 * 4 = 24\n",
      "6 * 5 = 30\n",
      "6 * 6 = 36\n",
      "6 * 7 = 42\n",
      "6 * 8 = 48\n",
      "6 * 9 = 54\n",
      "6 * 10 = 60\n"
     ]
    }
   ],
   "source": [
    "x=int(input(\"enter the number\"))\n",
    "for i in range(11):\n",
    "    print(x,'*',i,'=',x*i)"
   ]
  },
  {
   "cell_type": "code",
   "execution_count": 6,
   "id": "454d863c",
   "metadata": {},
   "outputs": [
    {
     "name": "stdout",
     "output_type": "stream",
     "text": [
      "enter any natural number: 45\n",
      "1035\n"
     ]
    }
   ],
   "source": [
    "x=int(input(\"enter any natural number: \"))\n",
    "t=0\n",
    "for i in range(x+1):\n",
    "    t=t+i\n",
    "print(t)"
   ]
  },
  {
   "cell_type": "code",
   "execution_count": null,
   "id": "2f22113d",
   "metadata": {},
   "outputs": [],
   "source": []
  }
 ],
 "metadata": {
  "kernelspec": {
   "display_name": "Python 3",
   "language": "python",
   "name": "python3"
  },
  "language_info": {
   "codemirror_mode": {
    "name": "ipython",
    "version": 3
   },
   "file_extension": ".py",
   "mimetype": "text/x-python",
   "name": "python",
   "nbconvert_exporter": "python",
   "pygments_lexer": "ipython3",
   "version": "3.8.8"
  }
 },
 "nbformat": 4,
 "nbformat_minor": 5
}
